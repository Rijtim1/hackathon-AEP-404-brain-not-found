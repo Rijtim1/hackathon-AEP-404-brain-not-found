{
 "cells": [
  {
   "cell_type": "code",
   "execution_count": 1,
   "metadata": {},
   "outputs": [],
   "source": [
    "# !pip install langchain==0.2.12\n",
    "# !pip install langgraph==0.2.2\n",
    "# !pip install langchain-ollama==0.1.1\n",
    "# !pip install langsmith==0.1.98\n",
    "# !pip install langchain_community==0.2.11\n",
    "# !pip install duckduckgo-search==6.2.13\n",
    "# !pip install pandas\n",
    "# !pip install tqdm"
   ]
  },
  {
   "cell_type": "code",
   "execution_count": 2,
   "metadata": {},
   "outputs": [],
   "source": [
    "from langchain_community.chat_models import ChatOllama\n",
    "import time\n",
    "import pandas as pd\n",
    "from tqdm import tqdm\n",
    "import re\n",
    "import string\n",
    "import json"
   ]
  },
  {
   "cell_type": "code",
   "execution_count": 3,
   "metadata": {},
   "outputs": [],
   "source": [
    "seed = int(time.time())"
   ]
  },
  {
   "cell_type": "code",
   "execution_count": 4,
   "metadata": {},
   "outputs": [],
   "source": [
    "llama3 = ChatOllama(model=\"llama3.2:3b\",\n",
    "                    format=\"json\",\n",
    "                    temperature=0.1,\n",
    "                    top_k=100,\n",
    "                    top_p=0.1,\n",
    "                    seed=seed,\n",
    "                    mirostat_tau=0.1)"
   ]
  },
  {
   "cell_type": "code",
   "execution_count": 5,
   "metadata": {},
   "outputs": [],
   "source": [
    "def call_llm(question):\n",
    "    return llama3.invoke(question)"
   ]
  },
  {
   "cell_type": "code",
   "execution_count": 6,
   "metadata": {},
   "outputs": [],
   "source": [
    "DATA_FILE = r\"CORE_HackOhio_subset_cleaned_downsampled 1.csv\""
   ]
  },
  {
   "cell_type": "code",
   "execution_count": 7,
   "metadata": {},
   "outputs": [],
   "source": [
    "dataframe = pd.read_csv(DATA_FILE)"
   ]
  },
  {
   "cell_type": "code",
   "execution_count": 8,
   "metadata": {},
   "outputs": [],
   "source": [
    "SIF_KEYWORDS = [\n",
    "    \"suspend\", \"load\", \"fall\", \"elevation\", \"mobile\", \"equipment\", \"traffic\", \"motor\", \"vehicle\", \"heavy\", \n",
    "    \"rotating\", \"equipment\", \"machine\", \"mechanical\", \"temperature\", \"high\", \"steam\", \"fire\", \"fuel\", \n",
    "    \"explosion\", \"trench\", \"excavation\", \"electrical\", \"contact\", \"arc\", \"flash\", \"toxic\", \"chemical\", \n",
    "    \"radiation\", \"high-energy\", \"pressure\", \"unsupported\", \"soil\", \"depth\", \"voltage\", \"shock\", \"burn\", \n",
    "    \"third-degree\", \"burns\", \"combustion\", \"IDLH\", \"oxygen depletion\", \"pH\", \"corrosive\", \"exposure\", \n",
    "    \"crane\", \"hoist\", \"lifting\", \"work zone\", \"pedestrian\", \"struck\", \"vehicle speed\", \"30 mph\"\n",
    "]"
   ]
  },
  {
   "cell_type": "code",
   "execution_count": 9,
   "metadata": {},
   "outputs": [],
   "source": [
    "# Define the function to preprocess the text data\n",
    "def preprocess_text(text):\n",
    "    text = str(text).lower()\n",
    "    text = text.replace('\\n', ' ')\n",
    "    text = re.sub(f\"[{re.escape(string.punctuation)}]\", \" \", text)  # Remove punctuation\n",
    "    text = re.sub(r'\\d+', '', text)  # Remove digits\n",
    "    return text"
   ]
  },
  {
   "cell_type": "code",
   "execution_count": 10,
   "metadata": {},
   "outputs": [],
   "source": [
    "def calculate_risk_score(text, keywords=SIF_KEYWORDS):\n",
    "    # Create a regex pattern from the keywords\n",
    "    pattern = re.compile(r'\\b(?:' + '|'.join(re.escape(k) for k in keywords) + r')\\b')\n",
    "    return len(re.findall(pattern, text))\n"
   ]
  },
  {
   "cell_type": "code",
   "execution_count": 11,
   "metadata": {},
   "outputs": [],
   "source": [
    "dataframe['RESPONSE'] = None\n",
    "dataframe['HIGH_ENERGY'] = None\n",
    "dataframe['INCIDENT'] = None\n",
    "dataframe['INJURY'] = None\n",
    "dataframe['CONTROLS_PRESENT'] = None\n",
    "dataframe['SEVERITY_SCORE'] = None"
   ]
  },
  {
   "cell_type": "code",
   "execution_count": 12,
   "metadata": {},
   "outputs": [
    {
     "name": "stderr",
     "output_type": "stream",
     "text": [
      "Assembling Prompts:  18%|█▊        | 3657/20000 [00:03<00:13, 1192.04row/s]"
     ]
    },
    {
     "name": "stdout",
     "output_type": "stream",
     "text": [
      "{\n",
      "  \"high_energy_present\": 1,\n",
      "  \"high_energy_incident\": 0,\n",
      "  \"serious_injury_sustained\": 0,\n",
      "  \"direct_controls_present\": 0,\n",
      "  \"severity_score\": 4\n",
      "}\n",
      "drilled excavations appropriately protected drilling excavations  e g   guardrail system  fall protection  hole covers  etc    fall protection utilized inside guardrail area  guardrail system erected within  feet the crew was placing concrete as backfill for a pole butt that was being set  when i came around the concrete truck there was an employee  who i believe to be the crew lead  leaning across the excavation with one hand on the pole attempting to level it without fall protection or guardrails in place  i asked said individual how far the concrete was to the top of excavation  in which he replied      i cautiously approached the hole to investigate  in which i determined that distance to be      i then stopped the crew and asked them to step back away from the excavation while i investigated further  to give some backstory  it was determined earlier in the project that if the pole butt was in the excavation that fall protection and guardrails were not necessary because there was only     of space between the pole and excavation wall not leaving enough space for an individual to fall in  in speaking with the employees they stated the above as to why there were not appropriate precautions put in place  i then stated that this was not a normal size hole  with this hole having     from pole to excavation wall  and that fall protection and guardrails were absolutely necessary due to these distances  i then coached them that they need to be proactive about looking for  identifying  and then putting appropriate precautions in place to combat hazards and not to just falling back on what they have been doing  after speaking with the crew i approached their safety rep which was sitting in his truck about yrds away and out of view of the work being preformed  while speaking with the safety rep he stated that we   aep   needed to have some consistency because it was fine for them to utilize the practice stated above before but now it is not acceptable  i then stated to him that they needed to use common sense and that if there was sufficient amount of room for an individual to fall in the excavation that fall protection and guard rails were absolutely necessary   name  wanted to investigate for himself so we walked to the excavation and he then determined that fall protection and rails were needed  one thing i found particularly troubling was that they had both fall protection and guardrails next to the excavation and once i told them fall protection was necessary an employee had it on and was ready to work again in less than a minute  no follow up notes provided : {\n",
      "  \"high_energy_present\": 1,\n",
      "  \"high_energy_incident\": 0,\n",
      "  \"serious_injury_sustained\": 0,\n",
      "  \"direct_controls_present\": 0,\n",
      "  \"severity_score\": 4\n",
      "}\n"
     ]
    },
    {
     "name": "stderr",
     "output_type": "stream",
     "text": [
      "Assembling Prompts:  82%|████████▏ | 16461/20000 [00:08<00:03, 1077.30row/s]"
     ]
    },
    {
     "name": "stdout",
     "output_type": "stream",
     "text": [
      "{\n",
      "  \"high_energy_present\": 0,\n",
      "  \"high_energy_incident\": 0,\n",
      "  \"serious_injury_sustained\": 0,\n",
      "  \"direct_controls_present\": 1,\n",
      "  \"severity_score\": 2\n",
      "}\n",
      "material handling  motorized mechanical equipment designated spotter and or qualified observer in place and safe work distance maintained to structures  equipment and overhead hazards   mechanical  employees completed a truck loading unloading assessment for all materials being loaded and unloaded where equipment or rigging is required to assist in moving the material   mechanical  load properly secured and equipment in use not left unattended   mechanical  operators properly trained and deemed competent qualified to operate equipment   mechanical  other   material handling  motorized mechanical equipment   telecom   mechanical  weight of the load verified and equipment rigging rated for the load   mechanical workers in bucket exhibited safety precautions as did those on the ground  it looked like they all are very experienced and adhered to everything required  no follow up notes provided : {\n",
      "  \"high_energy_present\": 0,\n",
      "  \"high_energy_incident\": 0,\n",
      "  \"serious_injury_sustained\": 0,\n",
      "  \"direct_controls_present\": 1,\n",
      "  \"severity_score\": 2\n",
      "}\n"
     ]
    },
    {
     "name": "stderr",
     "output_type": "stream",
     "text": [
      "Assembling Prompts: 100%|██████████| 20000/20000 [00:08<00:00, 2356.87row/s]\n"
     ]
    }
   ],
   "source": [
    "for index, row in tqdm(dataframe.iterrows(), desc=\"Assembling Prompts\", total=len(dataframe), unit=\"row\"):\n",
    "    point_name = row['PNT_NM']\n",
    "    qualifier_txt = row['QUALIFIER_TXT']\n",
    "    atrisk_notes = row['PNT_ATRISKNOTES_TX']\n",
    "    followup_notes = row['PNT_ATRISKFOLWUPNTS_TX']\n",
    "\n",
    "    if pd.isna(followup_notes):\n",
    "        followup_notes = \"No follow-up notes provided.\"\n",
    "\n",
    "    # Preprocess and clean the combined text\n",
    "    combined_text = preprocess_text(f\"{point_name} {qualifier_txt} {atrisk_notes} {followup_notes}\")\n",
    "    risk_score = calculate_risk_score(combined_text)\n",
    "\n",
    "    dataframe.at[index, 'RISK_SCORE'] = risk_score\n",
    "    dataframe.at[index, 'COMBINED_TEXT'] = combined_text\n",
    "\n",
    "    if risk_score > 15:\n",
    "        # Generate the prompt requesting a structured JSON response\n",
    "        prompt = f\"\"\"\n",
    "        Safety Observation: {combined_text}.\n",
    "        Please provide the answers to the following questions in the form of a structured JSON object with the following fields:\n",
    "\n",
    "        {{\n",
    "          \"high_energy_present\": 1 or 0, \n",
    "          \"high_energy_incident\": 1 or 0, \n",
    "          \"serious_injury_sustained\": 1 or 0, \n",
    "          \"direct_controls_present\": 1 or 0, \n",
    "          \"severity_score\": 1 to 5\n",
    "        }}\n",
    "        Questions:\n",
    "        1. Is high-energy present? (1 for Yes, 0 for No).\n",
    "        2. Was there a high-energy incident? (1 for Yes, 0 for No).\n",
    "        3. Was a serious injury sustained? (1 for Yes, 0 for No).\n",
    "        4. Were direct controls present? (1 for Yes, 0 for No).\n",
    "        5. Provide a severity score from 1 (low severity) to 5 (high severity) based on energy management and the outcome.\n",
    "        \"\"\"\n",
    "        \n",
    "        # Call the LLM\n",
    "        response = call_llm(question=prompt)\n",
    "\n",
    "        # Access the actual content of the LLM response\n",
    "        try:\n",
    "            response_content = response.content  # Access the content attribute from AIMessage object\n",
    "            print(response_content)\n",
    "\n",
    "            # Parse the JSON response\n",
    "            try:\n",
    "                json_response = json.loads(response_content)\n",
    "\n",
    "                high_energy = json_response.get(\"high_energy_present\", None)\n",
    "                incident = json_response.get(\"high_energy_incident\", None)\n",
    "                injury = json_response.get(\"serious_injury_sustained\", None)\n",
    "                controls_present = json_response.get(\"direct_controls_present\", None)\n",
    "                severity_score = json_response.get(\"severity_score\", None)\n",
    "\n",
    "                dataframe.at[index, 'HIGH_ENERGY'] = high_energy\n",
    "                dataframe.at[index, 'INCIDENT'] = incident\n",
    "                dataframe.at[index, 'INJURY'] = injury\n",
    "                dataframe.at[index, 'CONTROLS_PRESENT'] = controls_present\n",
    "                dataframe.at[index, 'SEVERITY_SCORE'] = severity_score\n",
    "\n",
    "            except json.JSONDecodeError:\n",
    "                print(f\"Error parsing JSON for row {index}\")\n",
    "                dataframe.at[index, 'RESPONSE'] = \"Error parsing JSON\"\n",
    "\n",
    "        except Exception as e:\n",
    "            print(f\"Error accessing response content for row {index}: {e}\")\n",
    "            dataframe.at[index, 'RESPONSE'] = \"Error accessing response content\"\n",
    "\n",
    "        # Store the raw LLM response in the dataframe\n",
    "        dataframe.at[index, 'RESPONSE'] = response_content  # Store the content\n",
    "        print(f\"{combined_text}: {response_content}\")"
   ]
  },
  {
   "cell_type": "code",
   "execution_count": 13,
   "metadata": {},
   "outputs": [
    {
     "name": "stdout",
     "output_type": "stream",
     "text": [
      "Processing complete. LLM responses saved to output_with_llm_json_responses.csv\n"
     ]
    }
   ],
   "source": [
    "# Save the updated dataframe with numerical responses to a new CSV file\n",
    "output_file = \"output_with_llm_json_responses.csv\"\n",
    "dataframe.to_csv(output_file, index=False)\n",
    "\n",
    "print(f\"Processing complete. LLM responses saved to {output_file}\")"
   ]
  },
  {
   "cell_type": "code",
   "execution_count": null,
   "metadata": {},
   "outputs": [],
   "source": []
  }
 ],
 "metadata": {
  "kernelspec": {
   "display_name": "Python 3",
   "language": "python",
   "name": "python3"
  },
  "language_info": {
   "codemirror_mode": {
    "name": "ipython",
    "version": 3
   },
   "file_extension": ".py",
   "mimetype": "text/x-python",
   "name": "python",
   "nbconvert_exporter": "python",
   "pygments_lexer": "ipython3",
   "version": "3.11.9"
  }
 },
 "nbformat": 4,
 "nbformat_minor": 2
}
